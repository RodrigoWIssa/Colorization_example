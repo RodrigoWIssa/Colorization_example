{
 "cells": [
  {
   "cell_type": "markdown",
   "id": "3ce8ed6b",
   "metadata": {},
   "source": [
    "In this notebook, a network  similar to Let there be Color! by Iizuka et al. will be done.Due to limited resources the network and the images used will be much smaller than the regular paper. Diferently from more popular methods it is not self-supervised, although it can be. This also gives us an example of a multi objective network."
   ]
  },
  {
   "cell_type": "code",
   "execution_count": 1,
   "id": "827ea759",
   "metadata": {},
   "outputs": [
    {
     "name": "stderr",
     "output_type": "stream",
     "text": [
      "C:\\Users\\ASUS\\anaconda3\\lib\\site-packages\\numpy\\_distributor_init.py:30: UserWarning: loaded more than 1 DLL from .libs:\n",
      "C:\\Users\\ASUS\\anaconda3\\lib\\site-packages\\numpy\\.libs\\libopenblas.WCDJNK7YVMPZQ2ME2ZZHJJRJ3JIKNDB7.gfortran-win_amd64.dll\n",
      "C:\\Users\\ASUS\\anaconda3\\lib\\site-packages\\numpy\\.libs\\libopenblas.XWYDX2IKJW2NMTWSFYNGFUWKQU3LYTCZ.gfortran-win_amd64.dll\n",
      "  warnings.warn(\"loaded more than 1 DLL from .libs:\"\n"
     ]
    }
   ],
   "source": [
    "import torch\n",
    "import torchvision\n",
    "from torch import nn\n",
    "from torchvision import transforms\n",
    "import torch.nn.functional as F\n",
    "import pytorch_lightning as pl\n",
    "from torchmetrics.functional import accuracy as accuracy_function\n",
    "from pytorch_lightning.callbacks.early_stopping import EarlyStopping\n",
    "from torch.utils.data import TensorDataset\n",
    "import cv2\n",
    "import numpy as np\n",
    "from pytorch_lightning.loggers import TensorBoardLogger\n"
   ]
  },
  {
   "cell_type": "code",
   "execution_count": 2,
   "id": "7efedf95",
   "metadata": {},
   "outputs": [
    {
     "name": "stdout",
     "output_type": "stream",
     "text": [
      "True\n"
     ]
    }
   ],
   "source": [
    "print(torch.cuda.is_available())"
   ]
  },
  {
   "cell_type": "code",
   "execution_count": 3,
   "id": "95a0f8cd",
   "metadata": {},
   "outputs": [
    {
     "name": "stdout",
     "output_type": "stream",
     "text": [
      "Files already downloaded and verified\n",
      "Files already downloaded and verified\n"
     ]
    }
   ],
   "source": [
    "transform = transforms.Compose(\n",
    "    [\n",
    "        transforms.ToTensor(),\n",
    "    ],\n",
    ")\n",
    "\n",
    "trainset = torchvision.datasets.CIFAR10(\n",
    "    root=\"./data\", train=True, download=True, transform=transform\n",
    ")\n",
    "testset = torchvision.datasets.CIFAR10(\n",
    "    root=\"./data\", train=False, download=True, transform=transform\n",
    ")"
   ]
  },
  {
   "cell_type": "markdown",
   "id": "b9764ea2",
   "metadata": {},
   "source": [
    "First we need to convert our rgb images to l*ab for that we will use opencv. We will need to get the means and standard deviation for denormalizing the images later"
   ]
  },
  {
   "cell_type": "code",
   "execution_count": 4,
   "id": "077ef088",
   "metadata": {},
   "outputs": [],
   "source": [
    "grayscaler = torchvision.transforms.Grayscale()\n",
    "def convert_tensor_image(image,dst_format):\n",
    "    numpy_lab_image = np.transpose(image.numpy(), (1, 2, 0))\n",
    "    numpy_lab_image = cv2.cvtColor(numpy_lab_image, dst_format)\n",
    "    return torch.from_numpy(np.transpose(numpy_lab_image, (2,0,1)))\n",
    "def rgb_dataset_to_lab_grayscale(dataset):\n",
    "    rgb_images = []\n",
    "    labels=[]\n",
    "    lab_images = []\n",
    "    grayscale_images = []\n",
    "    for image, label in dataset:\n",
    "        rgb_images.append(image)\n",
    "        labels.append(label)\n",
    "        grayscale_images.append(grayscaler(image))\n",
    "    for rgb_image in rgb_images:\n",
    "        lab_images.append(convert_tensor_image(rgb_image,cv2.COLOR_RGB2LAB))\n",
    "    return lab_images,labels,grayscale_images\n",
    "\n",
    "\n",
    "def l_ab_dataset_from_components(lab_images,labels,grayscale_images):\n",
    "    lab_images = torch.stack(lab_images)   \n",
    "    grayscale_images = torch.stack(grayscale_images)\n",
    "    gr_mean,gr_std = torch.std_mean(grayscale_images,(0,2,3))\n",
    "    grayscale_normalizer = transforms.Normalize(gr_mean[0].item(), gr_std[0].item())\n",
    "    l_images = lab_images[:,0,:,:]\n",
    "    ab_images = lab_images[:,1:,:,:]\n",
    "    ab_min = torch.min(ab_images)\n",
    "    ab_max = torch.max(ab_images)\n",
    "    ab_images = (ab_images - ab_min)/(ab_max-ab_min)\n",
    "    labels = torch.Tensor(labels)\n",
    "    newset = TensorDataset(grayscale_normalizer(grayscale_images),l_images,ab_images,labels)\n",
    "    return newset\n",
    "trainset = l_ab_dataset_from_components(*rgb_dataset_to_lab_grayscale(trainset))\n",
    "test_lab_images,test_labels,test_grayscale_images = rgb_dataset_to_lab_grayscale(testset)\n",
    "testset = l_ab_dataset_from_components(test_lab_images,test_labels,test_grayscale_images)\n"
   ]
  },
  {
   "cell_type": "code",
   "execution_count": 5,
   "id": "4fd030ee",
   "metadata": {},
   "outputs": [],
   "source": [
    "test_ab_images = torch.stack(test_lab_images)[:,1:,:,:]\n",
    "test_ab_min = torch.min(test_ab_images)\n",
    "test_ab_max = torch.max(test_ab_images)"
   ]
  },
  {
   "cell_type": "markdown",
   "id": "58d8ecb7",
   "metadata": {},
   "source": [
    "Alph is a hyperparameter for the loss, we use their default value 1/300"
   ]
  },
  {
   "cell_type": "code",
   "execution_count": 6,
   "id": "278477c2",
   "metadata": {},
   "outputs": [],
   "source": [
    "batch_size = 32\n",
    "alpha = 1/300\n",
    "trainloader = torch.utils.data.DataLoader(\n",
    "    trainset, batch_size=batch_size, shuffle=True, num_workers=1\n",
    ")\n",
    "testloader = torch.utils.data.DataLoader(\n",
    "    testset, batch_size=batch_size, shuffle=False, num_workers=1\n",
    ")\n"
   ]
  },
  {
   "cell_type": "markdown",
   "id": "9afb2443",
   "metadata": {},
   "source": [
    "The key layer for this paper was a fusion layer to combine linear and 2d features, which is implemented here:"
   ]
  },
  {
   "cell_type": "code",
   "execution_count": 7,
   "id": "82fb7ab1",
   "metadata": {},
   "outputs": [],
   "source": [
    "class FuseLinearWithImage(nn.Module):\n",
    "    def __init__(self, in_channels,\n",
    "        out_channels,in_features,image_size):\n",
    "        super().__init__()\n",
    "        self.conv = nn.Conv2d(\n",
    "            in_channels, out_channels=out_channels, kernel_size=1,bias=True\n",
    "        )\n",
    "        self.linear = nn.Linear(in_features,out_channels)\n",
    "        self.image_size = image_size\n",
    "\n",
    "    def forward(self, features):\n",
    "        \n",
    "        linear_features,image_features = features\n",
    "        out_features = self.linear(linear_features)\n",
    "        out_image = self.conv(image_features)\n",
    "        \n",
    "        features =torch.unsqueeze(torch.unsqueeze(out_features,-1),-1)\n",
    "        features = features.repeat(1,1,self.image_size,self.image_size)\n",
    "        features += out_image\n",
    "        return features"
   ]
  },
  {
   "cell_type": "code",
   "execution_count": 8,
   "id": "77084aab",
   "metadata": {},
   "outputs": [],
   "source": [
    "class Colorizer(pl.LightningModule):\n",
    "    def __init__(self):\n",
    "        super().__init__()\n",
    "        self.low_level_features = nn.Sequential(nn.Conv2d(1, 64, kernel_size=3, stride=2, padding=1, bias=True),\n",
    "                                   nn.ReLU(True),\n",
    "                                   nn.BatchNorm2d(64),\n",
    "                                   nn.Conv2d(64, 128, kernel_size=3, stride=1, padding=1, bias=True),\n",
    "                                   nn.ReLU(True),\n",
    "                                   nn.BatchNorm2d(128))\n",
    "        self.mid_level_features = nn.Sequential(nn.Conv2d(128, 64, kernel_size=3, stride=1, padding=1, bias=True),\n",
    "                                   nn.ReLU(True),\n",
    "                                   nn.BatchNorm2d(64))\n",
    "        self.global_features = nn.Sequential(nn.Conv2d(128, 128, kernel_size=3, stride=2, padding=1, bias=True),\n",
    "                                   nn.ReLU(True),\n",
    "                                   nn.BatchNorm2d(128),\n",
    "                                    nn.Conv2d(128, 128, kernel_size=3, stride=2, padding=1, bias=True),\n",
    "                                   nn.ReLU(True),\n",
    "                                   nn.BatchNorm2d(128),\n",
    "                                    nn.Flatten(),\n",
    "                                    nn.Linear(128*4*4,64),\n",
    "                                    nn.ReLU(True),\n",
    "                                    nn.BatchNorm1d(64)\n",
    "                                                  )\n",
    "        self.classifier = nn.Sequential(nn.Linear(64,10))\n",
    "        self.colorization_network = nn.Sequential(\n",
    "                                    FuseLinearWithImage(64,128,64,16),\n",
    "                                    nn.Conv2d(128, 128, kernel_size=3, stride=1, padding=1, bias=True),\n",
    "                                   nn.ReLU(True),\n",
    "                                   nn.BatchNorm2d(128),\n",
    "                                   nn.Upsample(scale_factor=2, mode='bilinear'),\n",
    "                                   nn.ReLU(True),\n",
    "                                   nn.BatchNorm2d(128),\n",
    "                                   nn.Conv2d(128, 2, kernel_size=3, stride=1, padding=1, bias=True),\n",
    "                                   nn.Sigmoid()\n",
    "                                   )\n",
    "        self.loss_function_image = nn.MSELoss()\n",
    "        self.loss_function_classifier = nn.CrossEntropyLoss()\n",
    "        self.model = torch.nn.ModuleList((self.low_level_features,self.mid_level_features,self.global_features,self.classifier,self.colorization_network))\n",
    "\n",
    "    def forward(self, x):\n",
    "        x = self.low_level_features(x)\n",
    "        mid_x = self.mid_level_features(x)\n",
    "        global_x=self.global_features(x)\n",
    "        \n",
    "        return (self.classifier(global_x),self.colorization_network((global_x,mid_x)))\n",
    "    def generic_step(self,batch,batch_idx):\n",
    "\n",
    "        grayscale_images,l_images,ab_images,y = batch \n",
    "        y_hat,ab_hat = self.forward(grayscale_images)\n",
    "        loss_image = self.loss_function_image(ab_hat, ab_images)\n",
    "        loss_classifier = self.loss_function_classifier(y_hat, y.long())\n",
    "        accuracy = accuracy_function(y_hat,target=y.type(torch.int))\n",
    "        loss = loss_image + alpha*loss_classifier\n",
    "        return loss,accuracy\n",
    "\n",
    "    def training_step(self, batch, batch_idx):\n",
    "        loss,accuracy = self.generic_step(batch,batch_idx)\n",
    "        return loss\n",
    "     \n",
    "\n",
    "    def validation_step(self, batch, batch_idx):\n",
    "        loss,accuracy = self.generic_step(batch,batch_idx)\n",
    "        return accuracy\n",
    "    def test_step(self, batch, batch_idx):\n",
    "        loss,accuracy = self.generic_step(batch,batch_idx)\n",
    "        self.log(\"test_accuracy_batch\", accuracy, prog_bar=True)\n",
    "        return accuracy\n",
    "    def test_step_end(self, outs):\n",
    "        accuracy = torch.mean(outs)\n",
    "        self.log(\"test_accuracy\",accuracy, prog_bar=True)\n",
    "    def validation_epoch_end(self, outs):\n",
    "        accuracy = torch.stack(outs).mean()\n",
    "        self.log(\"val_accuracy\", accuracy, prog_bar=True)\n",
    "    def configure_optimizers(self):\n",
    "        optimizer = torch.optim.Adam(self.model.parameters(), lr=1e-3)\n",
    "        return optimizer"
   ]
  },
  {
   "cell_type": "code",
   "execution_count": 115,
   "id": "e7acab70",
   "metadata": {},
   "outputs": [
    {
     "name": "stderr",
     "output_type": "stream",
     "text": [
      "GPU available: True, used: True\n",
      "TPU available: False, using: 0 TPU cores\n",
      "IPU available: False, using: 0 IPUs\n",
      "HPU available: False, using: 0 HPUs\n",
      "LOCAL_RANK: 0 - CUDA_VISIBLE_DEVICES: [0]\n",
      "\n",
      "  | Name                     | Type             | Params\n",
      "--------------------------------------------------------------\n",
      "0 | low_level_features       | Sequential       | 74.9 K\n",
      "1 | mid_level_features       | Sequential       | 73.9 K\n",
      "2 | global_features          | Sequential       | 426 K \n",
      "3 | classifier               | Sequential       | 650   \n",
      "4 | colorization_network     | Sequential       | 167 K \n",
      "5 | loss_function_image      | MSELoss          | 0     \n",
      "6 | loss_function_classifier | CrossEntropyLoss | 0     \n",
      "7 | model                    | ModuleList       | 743 K \n",
      "--------------------------------------------------------------\n",
      "743 K     Trainable params\n",
      "0         Non-trainable params\n",
      "743 K     Total params\n",
      "2.974     Total estimated model params size (MB)\n"
     ]
    },
    {
     "data": {
      "application/vnd.jupyter.widget-view+json": {
       "model_id": "",
       "version_major": 2,
       "version_minor": 0
      },
      "text/plain": [
       "Sanity Checking: 0it [00:00, ?it/s]"
      ]
     },
     "metadata": {},
     "output_type": "display_data"
    },
    {
     "data": {
      "application/vnd.jupyter.widget-view+json": {
       "model_id": "1642864fd78241cb9350a1c4e78a5007",
       "version_major": 2,
       "version_minor": 0
      },
      "text/plain": [
       "Training: 0it [00:00, ?it/s]"
      ]
     },
     "metadata": {},
     "output_type": "display_data"
    },
    {
     "data": {
      "application/vnd.jupyter.widget-view+json": {
       "model_id": "",
       "version_major": 2,
       "version_minor": 0
      },
      "text/plain": [
       "Validation: 0it [00:00, ?it/s]"
      ]
     },
     "metadata": {},
     "output_type": "display_data"
    },
    {
     "data": {
      "application/vnd.jupyter.widget-view+json": {
       "model_id": "",
       "version_major": 2,
       "version_minor": 0
      },
      "text/plain": [
       "Validation: 0it [00:00, ?it/s]"
      ]
     },
     "metadata": {},
     "output_type": "display_data"
    },
    {
     "data": {
      "application/vnd.jupyter.widget-view+json": {
       "model_id": "",
       "version_major": 2,
       "version_minor": 0
      },
      "text/plain": [
       "Validation: 0it [00:00, ?it/s]"
      ]
     },
     "metadata": {},
     "output_type": "display_data"
    },
    {
     "data": {
      "application/vnd.jupyter.widget-view+json": {
       "model_id": "",
       "version_major": 2,
       "version_minor": 0
      },
      "text/plain": [
       "Validation: 0it [00:00, ?it/s]"
      ]
     },
     "metadata": {},
     "output_type": "display_data"
    },
    {
     "data": {
      "application/vnd.jupyter.widget-view+json": {
       "model_id": "",
       "version_major": 2,
       "version_minor": 0
      },
      "text/plain": [
       "Validation: 0it [00:00, ?it/s]"
      ]
     },
     "metadata": {},
     "output_type": "display_data"
    },
    {
     "data": {
      "application/vnd.jupyter.widget-view+json": {
       "model_id": "",
       "version_major": 2,
       "version_minor": 0
      },
      "text/plain": [
       "Validation: 0it [00:00, ?it/s]"
      ]
     },
     "metadata": {},
     "output_type": "display_data"
    },
    {
     "data": {
      "application/vnd.jupyter.widget-view+json": {
       "model_id": "",
       "version_major": 2,
       "version_minor": 0
      },
      "text/plain": [
       "Validation: 0it [00:00, ?it/s]"
      ]
     },
     "metadata": {},
     "output_type": "display_data"
    },
    {
     "data": {
      "application/vnd.jupyter.widget-view+json": {
       "model_id": "",
       "version_major": 2,
       "version_minor": 0
      },
      "text/plain": [
       "Validation: 0it [00:00, ?it/s]"
      ]
     },
     "metadata": {},
     "output_type": "display_data"
    },
    {
     "data": {
      "application/vnd.jupyter.widget-view+json": {
       "model_id": "",
       "version_major": 2,
       "version_minor": 0
      },
      "text/plain": [
       "Validation: 0it [00:00, ?it/s]"
      ]
     },
     "metadata": {},
     "output_type": "display_data"
    },
    {
     "data": {
      "application/vnd.jupyter.widget-view+json": {
       "model_id": "",
       "version_major": 2,
       "version_minor": 0
      },
      "text/plain": [
       "Validation: 0it [00:00, ?it/s]"
      ]
     },
     "metadata": {},
     "output_type": "display_data"
    },
    {
     "data": {
      "application/vnd.jupyter.widget-view+json": {
       "model_id": "",
       "version_major": 2,
       "version_minor": 0
      },
      "text/plain": [
       "Validation: 0it [00:00, ?it/s]"
      ]
     },
     "metadata": {},
     "output_type": "display_data"
    },
    {
     "data": {
      "application/vnd.jupyter.widget-view+json": {
       "model_id": "",
       "version_major": 2,
       "version_minor": 0
      },
      "text/plain": [
       "Validation: 0it [00:00, ?it/s]"
      ]
     },
     "metadata": {},
     "output_type": "display_data"
    },
    {
     "data": {
      "application/vnd.jupyter.widget-view+json": {
       "model_id": "",
       "version_major": 2,
       "version_minor": 0
      },
      "text/plain": [
       "Validation: 0it [00:00, ?it/s]"
      ]
     },
     "metadata": {},
     "output_type": "display_data"
    },
    {
     "data": {
      "application/vnd.jupyter.widget-view+json": {
       "model_id": "",
       "version_major": 2,
       "version_minor": 0
      },
      "text/plain": [
       "Validation: 0it [00:00, ?it/s]"
      ]
     },
     "metadata": {},
     "output_type": "display_data"
    },
    {
     "data": {
      "application/vnd.jupyter.widget-view+json": {
       "model_id": "",
       "version_major": 2,
       "version_minor": 0
      },
      "text/plain": [
       "Validation: 0it [00:00, ?it/s]"
      ]
     },
     "metadata": {},
     "output_type": "display_data"
    },
    {
     "data": {
      "application/vnd.jupyter.widget-view+json": {
       "model_id": "",
       "version_major": 2,
       "version_minor": 0
      },
      "text/plain": [
       "Validation: 0it [00:00, ?it/s]"
      ]
     },
     "metadata": {},
     "output_type": "display_data"
    },
    {
     "data": {
      "application/vnd.jupyter.widget-view+json": {
       "model_id": "",
       "version_major": 2,
       "version_minor": 0
      },
      "text/plain": [
       "Validation: 0it [00:00, ?it/s]"
      ]
     },
     "metadata": {},
     "output_type": "display_data"
    },
    {
     "data": {
      "application/vnd.jupyter.widget-view+json": {
       "model_id": "",
       "version_major": 2,
       "version_minor": 0
      },
      "text/plain": [
       "Validation: 0it [00:00, ?it/s]"
      ]
     },
     "metadata": {},
     "output_type": "display_data"
    },
    {
     "data": {
      "application/vnd.jupyter.widget-view+json": {
       "model_id": "",
       "version_major": 2,
       "version_minor": 0
      },
      "text/plain": [
       "Validation: 0it [00:00, ?it/s]"
      ]
     },
     "metadata": {},
     "output_type": "display_data"
    },
    {
     "data": {
      "application/vnd.jupyter.widget-view+json": {
       "model_id": "",
       "version_major": 2,
       "version_minor": 0
      },
      "text/plain": [
       "Validation: 0it [00:00, ?it/s]"
      ]
     },
     "metadata": {},
     "output_type": "display_data"
    },
    {
     "data": {
      "application/vnd.jupyter.widget-view+json": {
       "model_id": "",
       "version_major": 2,
       "version_minor": 0
      },
      "text/plain": [
       "Validation: 0it [00:00, ?it/s]"
      ]
     },
     "metadata": {},
     "output_type": "display_data"
    },
    {
     "data": {
      "application/vnd.jupyter.widget-view+json": {
       "model_id": "",
       "version_major": 2,
       "version_minor": 0
      },
      "text/plain": [
       "Validation: 0it [00:00, ?it/s]"
      ]
     },
     "metadata": {},
     "output_type": "display_data"
    },
    {
     "data": {
      "application/vnd.jupyter.widget-view+json": {
       "model_id": "",
       "version_major": 2,
       "version_minor": 0
      },
      "text/plain": [
       "Validation: 0it [00:00, ?it/s]"
      ]
     },
     "metadata": {},
     "output_type": "display_data"
    },
    {
     "data": {
      "application/vnd.jupyter.widget-view+json": {
       "model_id": "",
       "version_major": 2,
       "version_minor": 0
      },
      "text/plain": [
       "Validation: 0it [00:00, ?it/s]"
      ]
     },
     "metadata": {},
     "output_type": "display_data"
    },
    {
     "data": {
      "application/vnd.jupyter.widget-view+json": {
       "model_id": "",
       "version_major": 2,
       "version_minor": 0
      },
      "text/plain": [
       "Validation: 0it [00:00, ?it/s]"
      ]
     },
     "metadata": {},
     "output_type": "display_data"
    },
    {
     "data": {
      "application/vnd.jupyter.widget-view+json": {
       "model_id": "",
       "version_major": 2,
       "version_minor": 0
      },
      "text/plain": [
       "Validation: 0it [00:00, ?it/s]"
      ]
     },
     "metadata": {},
     "output_type": "display_data"
    },
    {
     "data": {
      "application/vnd.jupyter.widget-view+json": {
       "model_id": "",
       "version_major": 2,
       "version_minor": 0
      },
      "text/plain": [
       "Validation: 0it [00:00, ?it/s]"
      ]
     },
     "metadata": {},
     "output_type": "display_data"
    },
    {
     "data": {
      "application/vnd.jupyter.widget-view+json": {
       "model_id": "",
       "version_major": 2,
       "version_minor": 0
      },
      "text/plain": [
       "Validation: 0it [00:00, ?it/s]"
      ]
     },
     "metadata": {},
     "output_type": "display_data"
    },
    {
     "data": {
      "application/vnd.jupyter.widget-view+json": {
       "model_id": "",
       "version_major": 2,
       "version_minor": 0
      },
      "text/plain": [
       "Validation: 0it [00:00, ?it/s]"
      ]
     },
     "metadata": {},
     "output_type": "display_data"
    },
    {
     "data": {
      "application/vnd.jupyter.widget-view+json": {
       "model_id": "",
       "version_major": 2,
       "version_minor": 0
      },
      "text/plain": [
       "Validation: 0it [00:00, ?it/s]"
      ]
     },
     "metadata": {},
     "output_type": "display_data"
    },
    {
     "data": {
      "application/vnd.jupyter.widget-view+json": {
       "model_id": "",
       "version_major": 2,
       "version_minor": 0
      },
      "text/plain": [
       "Validation: 0it [00:00, ?it/s]"
      ]
     },
     "metadata": {},
     "output_type": "display_data"
    },
    {
     "data": {
      "application/vnd.jupyter.widget-view+json": {
       "model_id": "",
       "version_major": 2,
       "version_minor": 0
      },
      "text/plain": [
       "Validation: 0it [00:00, ?it/s]"
      ]
     },
     "metadata": {},
     "output_type": "display_data"
    },
    {
     "data": {
      "application/vnd.jupyter.widget-view+json": {
       "model_id": "",
       "version_major": 2,
       "version_minor": 0
      },
      "text/plain": [
       "Validation: 0it [00:00, ?it/s]"
      ]
     },
     "metadata": {},
     "output_type": "display_data"
    },
    {
     "data": {
      "application/vnd.jupyter.widget-view+json": {
       "model_id": "",
       "version_major": 2,
       "version_minor": 0
      },
      "text/plain": [
       "Validation: 0it [00:00, ?it/s]"
      ]
     },
     "metadata": {},
     "output_type": "display_data"
    },
    {
     "data": {
      "application/vnd.jupyter.widget-view+json": {
       "model_id": "",
       "version_major": 2,
       "version_minor": 0
      },
      "text/plain": [
       "Validation: 0it [00:00, ?it/s]"
      ]
     },
     "metadata": {},
     "output_type": "display_data"
    },
    {
     "data": {
      "application/vnd.jupyter.widget-view+json": {
       "model_id": "",
       "version_major": 2,
       "version_minor": 0
      },
      "text/plain": [
       "Validation: 0it [00:00, ?it/s]"
      ]
     },
     "metadata": {},
     "output_type": "display_data"
    },
    {
     "data": {
      "application/vnd.jupyter.widget-view+json": {
       "model_id": "",
       "version_major": 2,
       "version_minor": 0
      },
      "text/plain": [
       "Validation: 0it [00:00, ?it/s]"
      ]
     },
     "metadata": {},
     "output_type": "display_data"
    },
    {
     "data": {
      "application/vnd.jupyter.widget-view+json": {
       "model_id": "",
       "version_major": 2,
       "version_minor": 0
      },
      "text/plain": [
       "Validation: 0it [00:00, ?it/s]"
      ]
     },
     "metadata": {},
     "output_type": "display_data"
    },
    {
     "data": {
      "application/vnd.jupyter.widget-view+json": {
       "model_id": "",
       "version_major": 2,
       "version_minor": 0
      },
      "text/plain": [
       "Validation: 0it [00:00, ?it/s]"
      ]
     },
     "metadata": {},
     "output_type": "display_data"
    },
    {
     "data": {
      "application/vnd.jupyter.widget-view+json": {
       "model_id": "",
       "version_major": 2,
       "version_minor": 0
      },
      "text/plain": [
       "Validation: 0it [00:00, ?it/s]"
      ]
     },
     "metadata": {},
     "output_type": "display_data"
    },
    {
     "data": {
      "application/vnd.jupyter.widget-view+json": {
       "model_id": "",
       "version_major": 2,
       "version_minor": 0
      },
      "text/plain": [
       "Validation: 0it [00:00, ?it/s]"
      ]
     },
     "metadata": {},
     "output_type": "display_data"
    },
    {
     "data": {
      "application/vnd.jupyter.widget-view+json": {
       "model_id": "",
       "version_major": 2,
       "version_minor": 0
      },
      "text/plain": [
       "Validation: 0it [00:00, ?it/s]"
      ]
     },
     "metadata": {},
     "output_type": "display_data"
    },
    {
     "data": {
      "application/vnd.jupyter.widget-view+json": {
       "model_id": "",
       "version_major": 2,
       "version_minor": 0
      },
      "text/plain": [
       "Validation: 0it [00:00, ?it/s]"
      ]
     },
     "metadata": {},
     "output_type": "display_data"
    },
    {
     "data": {
      "application/vnd.jupyter.widget-view+json": {
       "model_id": "",
       "version_major": 2,
       "version_minor": 0
      },
      "text/plain": [
       "Validation: 0it [00:00, ?it/s]"
      ]
     },
     "metadata": {},
     "output_type": "display_data"
    },
    {
     "data": {
      "application/vnd.jupyter.widget-view+json": {
       "model_id": "",
       "version_major": 2,
       "version_minor": 0
      },
      "text/plain": [
       "Validation: 0it [00:00, ?it/s]"
      ]
     },
     "metadata": {},
     "output_type": "display_data"
    },
    {
     "data": {
      "application/vnd.jupyter.widget-view+json": {
       "model_id": "",
       "version_major": 2,
       "version_minor": 0
      },
      "text/plain": [
       "Validation: 0it [00:00, ?it/s]"
      ]
     },
     "metadata": {},
     "output_type": "display_data"
    },
    {
     "data": {
      "application/vnd.jupyter.widget-view+json": {
       "model_id": "",
       "version_major": 2,
       "version_minor": 0
      },
      "text/plain": [
       "Validation: 0it [00:00, ?it/s]"
      ]
     },
     "metadata": {},
     "output_type": "display_data"
    },
    {
     "data": {
      "application/vnd.jupyter.widget-view+json": {
       "model_id": "",
       "version_major": 2,
       "version_minor": 0
      },
      "text/plain": [
       "Validation: 0it [00:00, ?it/s]"
      ]
     },
     "metadata": {},
     "output_type": "display_data"
    },
    {
     "data": {
      "application/vnd.jupyter.widget-view+json": {
       "model_id": "",
       "version_major": 2,
       "version_minor": 0
      },
      "text/plain": [
       "Validation: 0it [00:00, ?it/s]"
      ]
     },
     "metadata": {},
     "output_type": "display_data"
    },
    {
     "data": {
      "application/vnd.jupyter.widget-view+json": {
       "model_id": "",
       "version_major": 2,
       "version_minor": 0
      },
      "text/plain": [
       "Validation: 0it [00:00, ?it/s]"
      ]
     },
     "metadata": {},
     "output_type": "display_data"
    },
    {
     "name": "stdout",
     "output_type": "stream",
     "text": [
      "Done\n"
     ]
    }
   ],
   "source": [
    "trainer = pl.Trainer(max_epochs=50,accelerator=\"gpu\", devices=1)\n",
    "model = Colorizer()\n",
    "trainer.fit(model, trainloader,testloader)\n",
    "print(\"Done\")"
   ]
  },
  {
   "cell_type": "code",
   "execution_count": 9,
   "id": "0ffaed23",
   "metadata": {},
   "outputs": [],
   "source": [
    "model = Colorizer()\n",
    "model = model.load_from_checkpoint(checkpoint_path=\"train.ckpt\")"
   ]
  },
  {
   "cell_type": "markdown",
   "id": "a6f51403",
   "metadata": {},
   "source": [
    "Now let use try seeing an example on how it works. Since we are working with normalized lab images we should denormalize them before converting them back. "
   ]
  },
  {
   "cell_type": "code",
   "execution_count": 30,
   "id": "9ee79570",
   "metadata": {},
   "outputs": [],
   "source": [
    "model.eval().to('cpu')\n",
    "sample_grayscale,sample_l,sample_ab,_ = testset[10:22]\n",
    "sample_outs = model(sample_grayscale)[1].detach()\n",
    "sample_ab = sample_ab*(test_ab_max-test_ab_min) + test_ab_min\n",
    "sample_outs =sample_outs*(test_ab_max-test_ab_min) + test_ab_min \n",
    "sample_l = torch.unsqueeze(sample_l,1)\n",
    "sample_lab_infer = torch.cat((sample_l,sample_outs),dim=1)\n",
    "sample_lab_grounds = torch.cat((sample_l,sample_ab),dim=1)\n",
    "sample_outputs =[]\n",
    "sample_grounds=[]\n",
    "sample_total = []\n",
    "for index in range(12):\n",
    "    index_lab_grounds = sample_lab_grounds[index]\n",
    "    index_lab_infer = sample_lab_infer[index]\n",
    "    sample_total.append(convert_tensor_image(index_lab_infer,cv2.COLOR_LAB2RGB))\n",
    "    sample_total.append(convert_tensor_image(index_lab_grounds,cv2.COLOR_LAB2RGB))"
   ]
  },
  {
   "cell_type": "markdown",
   "id": "5b66c4d6",
   "metadata": {},
   "source": [
    "The images will be in the order infered vs ground"
   ]
  },
  {
   "cell_type": "code",
   "execution_count": 31,
   "id": "9a2ce5c5",
   "metadata": {},
   "outputs": [
    {
     "data": {
      "text/plain": [
       "<matplotlib.image.AxesImage at 0x1bee19e8070>"
      ]
     },
     "execution_count": 31,
     "metadata": {},
     "output_type": "execute_result"
    },
    {
     "data": {
      "image/png": "[encoded data removed]",
      "text/plain": [
       "<Figure size 1080x1440 with 1 Axes>"
      ]
     },
     "metadata": {
      "needs_background": "light"
     },
     "output_type": "display_data"
    }
   ],
   "source": [
    "import matplotlib.pyplot as plt\n",
    "plt.rcParams[\"figure.figsize\"] = (15,20)\n",
    "sample_tensor = torch.stack(sample_total)\n",
    "grid = torchvision.utils.make_grid(sample_tensor)\n",
    "plt.imshow(grid.permute(1, 2, 0))"
   ]
  },
  {
   "cell_type": "markdown",
   "id": "9f537939",
   "metadata": {},
   "source": [
    "There we have it. It should be noticed that we are not aiming at an equal color reconstroction, but rather a realistic coloration so e.g. the trucks with different colors are plausible. It is possible that alpha should be different due to the changes."
   ]
  },
  {
   "cell_type": "code",
   "execution_count": null,
   "id": "4e68b5b1",
   "metadata": {},
   "outputs": [],
   "source": []
  }
 ],
 "metadata": {
  "kernelspec": {
   "display_name": "Python [conda env:root] *",
   "language": "python",
   "name": "conda-root-py"
  },
  "language_info": {
   "codemirror_mode": {
    "name": "ipython",
    "version": 3
   },
   "file_extension": ".py",
   "mimetype": "text/x-python",
   "name": "python",
   "nbconvert_exporter": "python",
   "pygments_lexer": "ipython3",
   "version": "3.8.12"
  }
 },
 "nbformat": 4,
 "nbformat_minor": 5
}
